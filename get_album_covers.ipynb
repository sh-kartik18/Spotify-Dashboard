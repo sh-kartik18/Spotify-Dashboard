{
 "cells": [
  {
   "cell_type": "code",
   "execution_count": 6,
   "id": "879852e7-e515-4bf4-b81a-c1f4d28736bd",
   "metadata": {},
   "outputs": [],
   "source": [
    "import requests\n",
    "import base64"
   ]
  },
  {
   "cell_type": "code",
   "execution_count": null,
   "id": "cf1ee8c7-b842-4496-b215-45f612fdfb5c",
   "metadata": {},
   "outputs": [],
   "source": [
    "client_id = '****'\n",
    "client_secret = '****'\n",
    "\n",
    "auth_str = f\"{client_id}:{client_secret}\"\n",
    "b64_auth_str = base64.b64encode(auth_str.encode()).decode()\n",
    "\n",
    "token_url = \"https://accounts.spotify.com/api/token\"\n",
    "headers = {\"Authorization\": f\"Basic {b64_auth_str}\"}\n",
    "data = {\"grant_type\": \"client_credentials\"}\n",
    "\n",
    "response = requests.post(token_url, headers=headers, data=data)\n",
    "access_token = response.json()['access_token']\n",
    "print(\"Access Token:\", access_token)"
   ]
  },
  {
   "cell_type": "code",
   "execution_count": 10,
   "id": "f0ef16cb-489a-4e2c-ad78-b25a0480176e",
   "metadata": {},
   "outputs": [],
   "source": [
    "import pandas as pd\n",
    "import requests\n",
    "from time import sleep\n",
    "from tqdm import tqdm\n",
    "tqdm.pandas()"
   ]
  },
  {
   "cell_type": "code",
   "execution_count": 12,
   "id": "067620e1-17e2-432f-b66c-3e2e86252681",
   "metadata": {},
   "outputs": [
    {
     "name": "stderr",
     "output_type": "stream",
     "text": [
      "100%|██████████| 953/953 [08:45<00:00,  1.81it/s]\n"
     ]
    }
   ],
   "source": [
    "df = pd.read_csv(\"spotify-2023.csv\", encoding='latin1')\n",
    "\n",
    "access_token = \"*****\"\n",
    "headers = {\"Authorization\": f\"Bearer {access_token}\"}\n",
    "\n",
    "# Function to fetch album cover URL\n",
    "def get_cover_url(track, artist):\n",
    "    query = f\"track:{track} artist:{artist}\"\n",
    "    url = f\"https://api.spotify.com/v1/search?q={requests.utils.quote(query)}&type=track&limit=1\"\n",
    "    response = requests.get(url, headers=headers)\n",
    "    sleep(0.2)\n",
    "    if response.status_code == 200:\n",
    "        items = response.json()['tracks']['items']\n",
    "        if items:\n",
    "            return items[0]['album']['images'][0]['url']\n",
    "    return None\n",
    "\n",
    "df['cover_url'] = df.progress_apply(lambda row: get_cover_url(row['track_name'], row['artist(s)_name']), axis=1)\n",
    "\n",
    "df.to_csv(\"updated_spotify_data.csv\", index=False)"
   ]
  },
  {
   "cell_type": "code",
   "execution_count": null,
   "id": "82f972ff-5eca-4c2d-a902-518b913d154f",
   "metadata": {},
   "outputs": [],
   "source": []
  }
 ],
 "metadata": {
  "kernelspec": {
   "display_name": "Python 3 (ipykernel)",
   "language": "python",
   "name": "python3"
  },
  "language_info": {
   "codemirror_mode": {
    "name": "ipython",
    "version": 3
   },
   "file_extension": ".py",
   "mimetype": "text/x-python",
   "name": "python",
   "nbconvert_exporter": "python",
   "pygments_lexer": "ipython3",
   "version": "3.13.5"
  }
 },
 "nbformat": 4,
 "nbformat_minor": 5
}
